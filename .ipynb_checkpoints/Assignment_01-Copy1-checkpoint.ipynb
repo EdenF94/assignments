{
 "cells": [
  {
   "cell_type": "markdown",
   "metadata": {},
   "source": [
    "# Introduction to Programming (Summer 2018)\n",
    "## Assignment 1 (Due date: 22nd July 2018 )"
   ]
  },
  {
   "cell_type": "markdown",
   "metadata": {},
   "source": [
    "## Question 1\n",
    "### Basic mathematical operations\n",
    "\n",
    "Basic mathematical operations between two integers:\n",
    "\n",
    "Using 5 and 7 perform the following operations:\n",
    "+ addition\n",
    "+ subtraction\n",
    "+ multiplication\n",
    "+ division\n",
    "+ power (5^7)\n",
    "\n",
    "You should output the type of the result as well as the result. eg:\n",
    "+ operation: 3 + 2 \n",
    "+ output: < class 'int'> 5"
   ]
  },
  {
   "cell_type": "code",
   "execution_count": 1,
   "metadata": {},
   "outputs": [
    {
     "name": "stdout",
     "output_type": "stream",
     "text": [
      "12 <class 'int'>\n",
      "-2 <class 'int'>\n",
      "35 <class 'int'>\n",
      "0.7142857142857143 <class 'float'>\n",
      "78125 <class 'int'>\n"
     ]
    }
   ],
   "source": [
    "# Addition\n",
    "addition = 5 + 7\n",
    "print(addition, type(addition))\n",
    "\n",
    "# Subtraction\n",
    "sub = 5 - 7\n",
    "print(sub, type(sub))\n",
    "\n",
    "# Multiplication\n",
    "mult = 5 * 7\n",
    "print(mult, type(mult))\n",
    "\n",
    "# Division\n",
    "div = 5/7\n",
    "print(div, type(div))\n",
    "\n",
    "# Power\n",
    "power = 5**7\n",
    "print(power, type(power))"
   ]
  },
  {
   "cell_type": "markdown",
   "metadata": {},
   "source": [
    "## Question 2\n",
    "### Variables\n",
    "\n",
    "Perform the same operations as in Question 1, except use the input() operation to get two integers. In addition store the result of each operation in a variable called result_< operation > eg result_addition for addition."
   ]
  },
  {
   "cell_type": "code",
   "execution_count": 2,
   "metadata": {},
   "outputs": [
    {
     "name": "stdout",
     "output_type": "stream",
     "text": [
      "Please enter an integer: 5\n",
      "Please enter another integer: 6\n",
      "11 <class 'int'>\n",
      "-1 <class 'int'>\n",
      "30 <class 'int'>\n",
      "0.8333333333333334 <class 'float'>\n",
      "15625 <class 'int'>\n"
     ]
    }
   ],
   "source": [
    "number1 = int(input('Please enter an integer: '))\n",
    "number2 = int(input('Please enter another integer: '))\n",
    "\n",
    "# ADDITION\n",
    "result_addition = number1 + number2\n",
    "print(result_addition, type(result_addition))\n",
    "# SUBTRACTION\n",
    "result_subtraction = number1 - number2\n",
    "print(result_subtraction, type(result_subtraction))\n",
    "# MULTIPLICATION\n",
    "result_multiplication = number1 * number2\n",
    "print(result_multiplication, type(result_multiplication))\n",
    "# DIVISION\n",
    "result_division = number1 / number2\n",
    "print(result_division, type(result_division))\n",
    "# POWER\n",
    "result_power = number1**number2\n",
    "print(result_power, type(result_power))\n",
    "\n",
    "# THIS IS TO CHECK YOUR CODE, DON'T CHANGE THIS\n",
    "# IF YOUR CODE IS CORRECT YOU WILL NOT GET ANY ERRORS\n",
    "assert result_addition == number1 + number2, \"{} != {} + {}\".format(result_addition, number1, number2)\n",
    "assert result_subtraction == number1 - number2, \"{} != {} - {}\".format(result_addition, number1, number2)\n",
    "assert result_multiplication == number1 * number2, \"{} != {} * {}\".format(result_addition, number1, number2)\n",
    "assert result_division == number1 / number2, \"{} != {} / {}\".format(result_addition, number1, number2)\n",
    "assert result_power == number1 ** number2, \"{} != {} ** {}\".format(result_addition, number1, number2)"
   ]
  },
  {
   "cell_type": "markdown",
   "metadata": {},
   "source": [
    "## Question 3\n",
    "### Conditionals\n",
    "\n",
    "#### 3.1)\n",
    "Write code to get an integer from the user (assume the user will always enter a integer) as input. If the integer is less than zero print \"The number is negative\" and if the number is greater than or equal to zero print \"The number is positive\"."
   ]
  },
  {
   "cell_type": "code",
   "execution_count": 3,
   "metadata": {},
   "outputs": [
    {
     "name": "stdout",
     "output_type": "stream",
     "text": [
      "Enter an integer: 34\n",
      "The number is positive.\n"
     ]
    }
   ],
   "source": [
    "num = int(input('Enter an integer: '))\n",
    "\n",
    "if num < 0:\n",
    "    print('The number is negative.')\n",
    "else:\n",
    "    print('The number is positive.')"
   ]
  },
  {
   "cell_type": "markdown",
   "metadata": {},
   "source": [
    "#### 3.2)\n",
    "Extend the code from 3.1 to also check whether the number is even or odd. There are four options that can be output by your code now:\n",
    "+ The number is negative and even.\n",
    "+ The number is negative and odd.\n",
    "+ The number is positive and even.\n",
    "+ The number is positive and odd."
   ]
  },
  {
   "cell_type": "code",
   "execution_count": 4,
   "metadata": {},
   "outputs": [
    {
     "name": "stdout",
     "output_type": "stream",
     "text": [
      "Enter an integer: -139924379\n",
      "The number is negative and odd.\n"
     ]
    }
   ],
   "source": [
    "num = int(input('Enter a number: '))\n",
    "\n",
    "if num < 0:\n",
    "    if num % 2 == 0:\n",
    "        print('The number is negative and even.')\n",
    "    else:\n",
    "        print('The number is negative and odd.')\n",
    "else:\n",
    "    if num % 2 == 0:\n",
    "        print('The number is positive and even.')\n",
    "    else:\n",
    "        print('The number is positive and odd.')"
   ]
  },
  {
   "cell_type": "markdown",
   "metadata": {},
   "source": [
    "#### 3.3)\n",
    "Extend the code from 3.2 to check whether the user has input a integer. If the number is not an integer print \"Error, the value which was input is not an integer\".\n",
    "\n",
    "There are now 5 possible output messages:\n",
    "+ Error, the value which was input is not an integer.\n",
    "+ The number is negative and even.\n",
    "+ The number is negative and odd.\n",
    "+ The number is positive and even.\n",
    "+ The number is positive and odd."
   ]
  },
  {
   "cell_type": "code",
   "execution_count": 7,
   "metadata": {},
   "outputs": [
    {
     "name": "stdout",
     "output_type": "stream",
     "text": [
      "Enter an integer: lol\n"
     ]
    },
    {
     "ename": "SystemExit",
     "evalue": "Error, the value which was input is not an integer.",
     "output_type": "error",
     "traceback": [
      "An exception has occurred, use %tb to see the full traceback.\n",
      "\u001b[0;31mSystemExit\u001b[0m\u001b[0;31m:\u001b[0m Error, the value which was input is not an integer.\n"
     ]
    },
    {
     "name": "stderr",
     "output_type": "stream",
     "text": [
      "/Users/Eden/anaconda3/lib/python3.6/site-packages/IPython/core/interactiveshell.py:2971: UserWarning: To exit: use 'exit', 'quit', or Ctrl-D.\n",
      "  warn(\"To exit: use 'exit', 'quit', or Ctrl-D.\", stacklevel=1)\n"
     ]
    }
   ],
   "source": [
    "import sys\n",
    "\n",
    "try:\n",
    "    num = int(input('Enter an integer: ')) \n",
    "except ValueError:\n",
    "    sys.exit('Error, the value which was input is not an integer.')\n",
    "\n",
    "if num < 0:\n",
    "    if num % 2 == 0:\n",
    "        print('The number is negative and even.')\n",
    "    else:\n",
    "        print('The number is negative and odd.')\n",
    "else:\n",
    "    if num % 2 == 0:\n",
    "        print('The number is positive and even.')\n",
    "    else:\n",
    "        print('The number is positive and odd.')"
   ]
  },
  {
   "cell_type": "markdown",
   "metadata": {},
   "source": [
    "## Question 4\n",
    "### Looping\n",
    "\n",
    "In lecture 4 we created the code to print squares to the console, these questions will require different shapes to be printed.\n",
    "\n",
    "For each of shapes print using the following characters:\n",
    "+ Start by using only the '*' character\n",
    "+ Use the row index as the character\n",
    "+ Use the column index as the character\n",
    "+ Use the cummulative index as the character\n",
    "\n",
    "**For all of these questions assume that the user will always enter integers and that (1 <= input <= 9)**\n",
    "\n",
    "### Example (printing a square of size 'n'):"
   ]
  },
  {
   "cell_type": "code",
   "execution_count": 8,
   "metadata": {},
   "outputs": [
    {
     "name": "stdout",
     "output_type": "stream",
     "text": [
      "Enter n5\n",
      "* Character\n",
      "---------\n",
      "*****\n",
      "*****\n",
      "*****\n",
      "*****\n",
      "*****\n",
      "Row Index\n",
      "---------\n",
      "  0  0  0  0  0\n",
      "  1  1  1  1  1\n",
      "  2  2  2  2  2\n",
      "  3  3  3  3  3\n",
      "  4  4  4  4  4\n",
      "Column Index\n",
      "---------\n",
      "  0  1  2  3  4\n",
      "  0  1  2  3  4\n",
      "  0  1  2  3  4\n",
      "  0  1  2  3  4\n",
      "  0  1  2  3  4\n",
      "Cumulative Index\n",
      "---------\n",
      "  0  1  2  3  4\n",
      "  5  6  7  8  9\n",
      " 10 11 12 13 14\n",
      " 15 16 17 18 19\n",
      " 20 21 22 23 24\n"
     ]
    }
   ],
   "source": [
    "n = int(input(\"Enter n: \"))\n",
    "\n",
    "# USING '*' AS THE CHARACTER\n",
    "print('* Character\\n---------')\n",
    "for j in range(n):\n",
    "    line = ''\n",
    "    for i in range(n):\n",
    "        line += '*'\n",
    "    print(line)\n",
    "    \n",
    "# USING THE ROW INDEX AS THE CHARACTER\n",
    "print('Row Index\\n---------')\n",
    "for j in range(n):\n",
    "    line = ''\n",
    "    for i in range(n):\n",
    "        line += '{:>3}'.format(j)\n",
    "    print(line)\n",
    "    \n",
    "# USING THE COL INDEX AS THE CHARACTER\n",
    "print('Column Index\\n---------')\n",
    "for j in range(n):\n",
    "    line = ''\n",
    "    for i in range(n):\n",
    "        line += '{:>3}'.format(i)\n",
    "    print(line)\n",
    "\n",
    "# USING THE CUMULATIVE INDEX AS THE CHARACTER\n",
    "print('Cumulative Index\\n---------')\n",
    "for j in range(n):\n",
    "    line = ''\n",
    "    for i in range(n):\n",
    "        line += '{:>3}'.format(j * n + i)\n",
    "    print(line)"
   ]
  },
  {
   "cell_type": "markdown",
   "metadata": {},
   "source": [
    "#### 4.1)\n",
    "Print a triangle with height and width **n**\n",
    "\n",
    "**eg:**: n = 5\n",
    "```\n",
    "*\n",
    "**\n",
    "***\n",
    "****\n",
    "*****\n",
    "\n",
    "  0\n",
    "  1  1\n",
    "  2  2  2\n",
    "  3  3  3  3\n",
    "  4  4  4  4  4\n",
    "\n",
    "  0\n",
    "  0  1\n",
    "  0  1  2\n",
    "  0  1  2  3\n",
    "  0  1  2  3  4\n",
    "\n",
    "  0\n",
    "  1  2\n",
    "  3  4  5\n",
    "  6  7  8  9 \n",
    " 10 11 12 13 14\n",
    "\n",
    "```"
   ]
  },
  {
   "cell_type": "code",
   "execution_count": 9,
   "metadata": {},
   "outputs": [
    {
     "name": "stdout",
     "output_type": "stream",
     "text": [
      "Enter n6\n",
      "* Character\n",
      "---------\n",
      "*\n",
      "**\n",
      "***\n",
      "****\n",
      "*****\n",
      "******\n",
      "Row Index\n",
      "----------\n",
      "  0\n",
      "  1  1\n",
      "  2  2  2\n",
      "  3  3  3  3\n",
      "  4  4  4  4  4\n",
      "  5  5  5  5  5  5\n",
      "Column Index\n",
      "----------\n",
      "  0\n",
      "  0  1\n",
      "  0  1  2\n",
      "  0  1  2  3\n",
      "  0  1  2  3  4\n",
      "  0  1  2  3  4  5\n",
      "Cumulative Index\n",
      "----------\n",
      "  0\n",
      "  1  2\n",
      "  3  4  5\n",
      "  6  7  8  9\n",
      " 10 11 12 13 14\n",
      " 15 16 17 18 19 20\n"
     ]
    }
   ],
   "source": [
    "n = int(input(\"Enter n\"))\n",
    "line = ''\n",
    "# USING '*' AS THE CHARACTER\n",
    "print('* Character\\n---------')\n",
    "line = ''\n",
    "for i in range(n):\n",
    "    line = ''\n",
    "    for j in range(i+1):\n",
    "        line += '*'\n",
    "    print(line)\n",
    "\n",
    "# USING THE ROW INDEX AS THE CHARACTER\n",
    "print('Row Index\\n----------')\n",
    "for i in range(n):\n",
    "    line = ''\n",
    "    for j in range(i+1):\n",
    "        line += '{:>3}'.format(i)\n",
    "    print(line)\n",
    "    \n",
    "# USING THE COLUMN INDEX AS THE CHARACTER\n",
    "print('Column Index\\n----------')\n",
    "for i in range(n):\n",
    "    line = ''\n",
    "    for j in range(i+1):\n",
    "        line += '{:>3}'.format(j)\n",
    "    print(line)\n",
    "\n",
    "# CUMULATIVE INDEX\n",
    "print('Cumulative Index\\n----------')\n",
    "counter = 0\n",
    "for i in range(n):\n",
    "    line = ''\n",
    "    for j in range(i+1):\n",
    "        line += '{:>3}'.format(counter)\n",
    "        counter += 1\n",
    "    print(line)"
   ]
  },
  {
   "cell_type": "markdown",
   "metadata": {},
   "source": [
    "#### 4.1)\n",
    "Print a rectangle with height **n** and width **m**\n",
    "\n",
    "**eg:**: n = 3, m = 2\n",
    "```\n",
    "***\n",
    "***\n",
    "***\n",
    "\n",
    "  0  1\n",
    "  1  1\n",
    "  2  2\n",
    "\n",
    "  0  1\n",
    "  0  1\n",
    "  0  1\n",
    "\n",
    "  0  1\n",
    "  2  3\n",
    "  4  5\n",
    "```"
   ]
  },
  {
   "cell_type": "code",
   "execution_count": 11,
   "metadata": {},
   "outputs": [
    {
     "name": "stdout",
     "output_type": "stream",
     "text": [
      "Enter n: 9\n",
      "Enter m: 2\n",
      "* Character\n",
      "--------\n",
      "**\n",
      "**\n",
      "**\n",
      "**\n",
      "**\n",
      "**\n",
      "**\n",
      "**\n",
      "**\n",
      "Row Index\n",
      "--------\n",
      "  0  0\n",
      "  1  1\n",
      "  2  2\n",
      "  3  3\n",
      "  4  4\n",
      "  5  5\n",
      "  6  6\n",
      "  7  7\n",
      "  8  8\n",
      "Column Index\n",
      "--------\n",
      "  0  1\n",
      "  0  1\n",
      "  0  1\n",
      "  0  1\n",
      "  0  1\n",
      "  0  1\n",
      "  0  1\n",
      "  0  1\n",
      "  0  1\n",
      "Cumulative Index\n",
      "-------\n",
      "  0  1\n",
      "  2  3\n",
      "  4  5\n",
      "  6  7\n",
      "  8  9\n",
      " 10 11\n",
      " 12 13\n",
      " 14 15\n",
      " 16 17\n"
     ]
    }
   ],
   "source": [
    "n = int(input(\"Enter n: \"))\n",
    "m = int(input(\"Enter m: \"))\n",
    "\n",
    "\n",
    "# USING THE '*' CHARACTER\n",
    "print('* Character\\n--------')\n",
    "for i in range(n):\n",
    "    line = ''\n",
    "    for j in range(m):\n",
    "        line += '*'\n",
    "    print(line)\n",
    "    \n",
    "# USING ROW INDEX\n",
    "print('Row Index\\n--------')\n",
    "for i in range(n):\n",
    "    line = ''\n",
    "    for j in range(m):\n",
    "        line += '{:>3}'.format(i)\n",
    "    print(line)\n",
    "\n",
    "# USING COLUMN INDEX\n",
    "print('Column Index\\n--------')\n",
    "for i in range(n):\n",
    "    line = ''\n",
    "    for j in range(m):\n",
    "        line += '{:>3}'.format(j)\n",
    "    print(line)\n",
    "\n",
    "# USING CUMULATIVE INDEX\n",
    "print('Cumulative Index\\n-------')\n",
    "for i in range(n):\n",
    "    line = ''\n",
    "    for j in range(m):\n",
    "        line += '{:>3}'.format(i*m +j)\n",
    "    print(line)"
   ]
  },
  {
   "cell_type": "markdown",
   "metadata": {},
   "source": [
    "## Question 5\n",
    "### Finding Prime Numbers\n",
    "\n",
    "Write code which finds all of the prime numbers between 1 and 100 and stores them in a list.\n",
    "Print the list of prime numbers.\n",
    "\n",
    "A prime number is a number which is only divisible by itself and 1.\n",
    "\n",
    "Some starting code has been provided."
   ]
  },
  {
   "cell_type": "code",
   "execution_count": 12,
   "metadata": {},
   "outputs": [
    {
     "name": "stdout",
     "output_type": "stream",
     "text": [
      "[2, 3, 5, 7, 11, 13, 17, 19, 23, 29, 31, 37, 41, 43, 47, 53, 59, 61, 67, 71, 73, 79, 83, 89, 97]\n"
     ]
    }
   ],
   "source": [
    "results = []\n",
    "for i in range(1, 101):\n",
    "    prime = True\n",
    "    if i == 1:\n",
    "        continue\n",
    "    for j in range(2, i//2 + 1):\n",
    "        if i % j == 0:\n",
    "            prime = False\n",
    "    if prime == True:\n",
    "        results.append(i)\n",
    "        \n",
    "print(results)\n",
    "# expected output: [1, 2, 3, 5, 7, 11, 13, 17, 19, 23, 29, 31, 37, 41, 43, 47, 53, 59, 61, 67, 71, 73, 79, 83, 89, 97]"
   ]
  },
  {
   "cell_type": "markdown",
   "metadata": {},
   "source": [
    "## Question 6\n",
    "### git and github\n",
    "\n",
    "1. Create a directory called 'assignments' for all of the homework assignments.\n",
    "    + **Do not** make this directory in the 2018_ITP directory which contains the lecture material\n",
    "2. Add this Jupyter notebook to the directory you just created\n",
    "3. Initialize this directory as a git repository\n",
    "4. Add your assignment notebook to the repository\n",
    "5. Commit your assignment\n",
    "6. On github.com create a new repository called itp_2018_assigments\n",
    "7. Link the github repository with your local repository\n",
    "8. Email the link to your github repository to Mark.Grivainis@nyumc.org and Himanshu.Grover@nyumc.org\n",
    "\n",
    "All of your homework will be added to this repository, you will need to have pushed your changes before the deadline for any of the assignments."
   ]
  }
 ],
 "metadata": {
  "kernelspec": {
   "display_name": "Python 3",
   "language": "python",
   "name": "python3"
  },
  "language_info": {
   "codemirror_mode": {
    "name": "ipython",
    "version": 3
   },
   "file_extension": ".py",
   "mimetype": "text/x-python",
   "name": "python",
   "nbconvert_exporter": "python",
   "pygments_lexer": "ipython3",
   "version": "3.6.5"
  }
 },
 "nbformat": 4,
 "nbformat_minor": 2
}
